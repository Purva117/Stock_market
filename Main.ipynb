{
 "cells": [
  {
   "cell_type": "code",
   "execution_count": null,
   "metadata": {},
   "outputs": [],
   "source": [
    "import requests\n",
    "import time\n",
    "import pandas as pd\n",
    "import matplotlib.pyplot as plt"
   ]
  },
  {
   "cell_type": "code",
   "execution_count": null,
   "metadata": {},
   "outputs": [],
   "source": [
    "### Alpha Vantage free API key: JK2PZS2A9DPC7R1N\n",
    "\n",
    "API_KEY = 'JK2PZS2A9DPC7R1N'\n",
    "BASE_URL = 'https://www.alphavantage.co/query'\n",
    "\n",
    "\n",
    "STOCK = 'AAPL'"
   ]
  },
  {
   "cell_type": "code",
   "execution_count": null,
   "metadata": {},
   "outputs": [],
   "source": [
    "# Keep historical data for the last 50 data points\n",
    "MAX_HISTORY_LENGTH = 50\n",
    "historical_data = []\n",
    "\n",
    "def get_stock_data():\n",
    "    endpoint = f'{BASE_URL}?function=GLOBAL_QUOTE&symbol={STOCK}&apikey={API_KEY}'\n",
    "\n",
    "    try:\n",
    "        response = requests.get(endpoint)\n",
    "        data = response.json()\n",
    "\n",
    "        # Check if the response contains an error message\n",
    "        if 'Note' in data:\n",
    "            print(f'Error: {data[\"Note\"]}')\n",
    "            return None\n",
    "\n",
    "        # Extract relevant stock data\n",
    "        stock_data = data['Global Quote']\n",
    "        price = float(stock_data['05. price'])\n",
    "\n",
    "        # Append the current price to the historical data list\n",
    "        historical_data.append(price)\n",
    "\n",
    "        # If the historical data list exceeds the maximum length, remove the oldest entry\n",
    "        if len(historical_data) > MAX_HISTORY_LENGTH:\n",
    "            historical_data.pop(0)\n",
    "\n",
    "        return price\n",
    "\n",
    "    except requests.exceptions.RequestException as e:\n",
    "        print(f'Error fetching data for {STOCK}: {e}')\n",
    "        return None\n",
    "\n",
    "def plot_stock_graph():\n",
    "    plt.figure(figsize=(10, 6))\n",
    "    plt.plot(range(1, len(historical_data) + 1), historical_data, marker='o', linestyle='-', color='b')\n",
    "    plt.xlabel('Time')\n",
    "    plt.ylabel('Stock Price (USD)')\n",
    "    plt.title(f'Real-Time Stock Prices for {STOCK}')\n",
    "    plt.xticks(range(1, len(historical_data) + 1), rotation=45)\n",
    "    plt.tight_layout()\n",
    "    plt.show()\n",
    "\n",
    "if __name__ == '__main__':\n",
    "    while True:\n",
    "        stock_price = get_stock_data()\n",
    "\n",
    "        if stock_price is not None:\n",
    "            print(f'Real-Time Stock Price for {STOCK}: {stock_price}')\n",
    "\n",
    "            # Plot the graph\n",
    "            plot_stock_graph()\n",
    "\n",
    "        # Auto-refresh every 10 seconds\n",
    "        time.sleep(10)"
   ]
  }
 ],
 "metadata": {
  "kernelspec": {
   "display_name": "base",
   "language": "python",
   "name": "python3"
  },
  "language_info": {
   "codemirror_mode": {
    "name": "ipython",
    "version": 3
   },
   "file_extension": ".py",
   "mimetype": "text/x-python",
   "name": "python",
   "nbconvert_exporter": "python",
   "pygments_lexer": "ipython3",
   "version": "3.9.13"
  },
  "orig_nbformat": 4
 },
 "nbformat": 4,
 "nbformat_minor": 2
}
